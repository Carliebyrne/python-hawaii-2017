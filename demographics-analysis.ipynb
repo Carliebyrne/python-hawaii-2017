{
 "cells": [
  {
   "cell_type": "markdown",
   "metadata": {},
   "source": [
    "# Analyse the demographics of the workshop\n",
    "\n",
    "Who came, with what level, and how many stayed to the end. "
   ]
  },
  {
   "cell_type": "code",
   "execution_count": 1,
   "metadata": {
    "collapsed": true
   },
   "outputs": [],
   "source": [
    "import pandas as pd\n",
    "import matplotlib.pyplot as plt"
   ]
  },
  {
   "cell_type": "markdown",
   "metadata": {},
   "source": [
    "Set some default parameters for the matplotlib figures. I want to use the [seaborn](http://seaborn.pydata.org/) style sheet with larger text, all  figures to have the same size, and have a white (instead of transparent) background."
   ]
  },
  {
   "cell_type": "code",
   "execution_count": 2,
   "metadata": {
    "collapsed": false
   },
   "outputs": [],
   "source": [
    "plt.style.use(['seaborn', 'seaborn-talk'])\n",
    "plt.rc('figure', facecolor='#ffffff')\n",
    "plt.rc('figure', figsize=(10, 5))"
   ]
  },
  {
   "cell_type": "markdown",
   "metadata": {},
   "source": [
    "## Load the demographics data\n",
    "\n",
    "Data from the Google forms sign up. I exported the data (without names and emails) to the file `demographics.csv` in this repository. \n",
    "\n",
    "I'll use `pandas` library to load and manipulate the data."
   ]
  },
  {
   "cell_type": "code",
   "execution_count": 3,
   "metadata": {
    "collapsed": true
   },
   "outputs": [],
   "source": [
    "data = pd.read_csv('demographics.csv')"
   ]
  },
  {
   "cell_type": "code",
   "execution_count": 4,
   "metadata": {
    "collapsed": false
   },
   "outputs": [
    {
     "data": {
      "text/html": [
       "<div>\n",
       "<table border=\"1\" class=\"dataframe\">\n",
       "  <thead>\n",
       "    <tr style=\"text-align: right;\">\n",
       "      <th></th>\n",
       "      <th>os</th>\n",
       "      <th>experience</th>\n",
       "      <th>languages</th>\n",
       "      <th>position</th>\n",
       "      <th>field</th>\n",
       "    </tr>\n",
       "  </thead>\n",
       "  <tbody>\n",
       "    <tr>\n",
       "      <th>0</th>\n",
       "      <td>Mac (OSX)</td>\n",
       "      <td>Did a little bit of shell scripting</td>\n",
       "      <td>Python, Matlab/Octave</td>\n",
       "      <td>Graduate student</td>\n",
       "      <td>Geophysics</td>\n",
       "    </tr>\n",
       "    <tr>\n",
       "      <th>1</th>\n",
       "      <td>Mac (OSX)</td>\n",
       "      <td>Took a basic programming course, Self-taught w...</td>\n",
       "      <td>C/C++, Fortran, Matlab/Octave</td>\n",
       "      <td>Faculty</td>\n",
       "      <td>Plate Tectonics</td>\n",
       "    </tr>\n",
       "    <tr>\n",
       "      <th>2</th>\n",
       "      <td>Mac (OSX)</td>\n",
       "      <td>Took a basic programming course, Took intermed...</td>\n",
       "      <td>C/C++, Matlab/Octave, JAVA, VRML, MEL, UnrealS...</td>\n",
       "      <td>Graduate student</td>\n",
       "      <td>GG (Hydrology)</td>\n",
       "    </tr>\n",
       "    <tr>\n",
       "      <th>3</th>\n",
       "      <td>Windows</td>\n",
       "      <td>Took a basic programming course</td>\n",
       "      <td>Matlab/Octave</td>\n",
       "      <td>Staff</td>\n",
       "      <td>Geology and Geophysics</td>\n",
       "    </tr>\n",
       "    <tr>\n",
       "      <th>4</th>\n",
       "      <td>Mac (OSX)</td>\n",
       "      <td>Took a basic programming course</td>\n",
       "      <td>C/C++, Matlab/Octave</td>\n",
       "      <td>Graduate student</td>\n",
       "      <td>Geochemistry</td>\n",
       "    </tr>\n",
       "    <tr>\n",
       "      <th>5</th>\n",
       "      <td>Mac (OSX)</td>\n",
       "      <td>Took a basic programming course</td>\n",
       "      <td>Matlab/Octave, I use matlab from time to time ...</td>\n",
       "      <td>Graduate student</td>\n",
       "      <td>Coastal Geology &amp; sea-level rise</td>\n",
       "    </tr>\n",
       "    <tr>\n",
       "      <th>6</th>\n",
       "      <td>Windows</td>\n",
       "      <td>Self-taught with moderate/advanced experience</td>\n",
       "      <td>Fortran, Matlab/Octave, R</td>\n",
       "      <td>Postdoc</td>\n",
       "      <td>Watershed hydrology</td>\n",
       "    </tr>\n",
       "    <tr>\n",
       "      <th>7</th>\n",
       "      <td>Windows</td>\n",
       "      <td>Did a little bit of shell scripting</td>\n",
       "      <td>Matlab/Octave</td>\n",
       "      <td>Graduate student</td>\n",
       "      <td>Mineral Physics</td>\n",
       "    </tr>\n",
       "    <tr>\n",
       "      <th>8</th>\n",
       "      <td>Mac (OSX)</td>\n",
       "      <td>Took a basic programming course, Took intermed...</td>\n",
       "      <td>Python, C/C++, Matlab/Octave</td>\n",
       "      <td>Faculty</td>\n",
       "      <td>Mineral Physics</td>\n",
       "    </tr>\n",
       "    <tr>\n",
       "      <th>9</th>\n",
       "      <td>Mac (OSX)</td>\n",
       "      <td>Took intermediate/advanced programming course</td>\n",
       "      <td>Matlab/Octave, R</td>\n",
       "      <td>Graduate student</td>\n",
       "      <td>geophysics</td>\n",
       "    </tr>\n",
       "    <tr>\n",
       "      <th>10</th>\n",
       "      <td>Windows</td>\n",
       "      <td>Self-taught with little experience</td>\n",
       "      <td>Python</td>\n",
       "      <td>Staff</td>\n",
       "      <td>Geomorphology</td>\n",
       "    </tr>\n",
       "    <tr>\n",
       "      <th>11</th>\n",
       "      <td>Mac (OSX)</td>\n",
       "      <td>Never programmed before</td>\n",
       "      <td>None (I told I've never programmed before)</td>\n",
       "      <td>Graduate student</td>\n",
       "      <td>Hydrology modeling</td>\n",
       "    </tr>\n",
       "    <tr>\n",
       "      <th>12</th>\n",
       "      <td>Mac (OSX)</td>\n",
       "      <td>Took intermediate/advanced programming course,...</td>\n",
       "      <td>C/C++, Matlab/Octave, R, Java</td>\n",
       "      <td>Faculty</td>\n",
       "      <td>Coastal Geology</td>\n",
       "    </tr>\n",
       "    <tr>\n",
       "      <th>13</th>\n",
       "      <td>Mac (OSX)</td>\n",
       "      <td>Never programmed before, Self-taught with litt...</td>\n",
       "      <td>Javascript</td>\n",
       "      <td>Undergraduate student</td>\n",
       "      <td>Geophysics</td>\n",
       "    </tr>\n",
       "    <tr>\n",
       "      <th>14</th>\n",
       "      <td>Windows</td>\n",
       "      <td>Took a basic programming course, Self-taught w...</td>\n",
       "      <td>Matlab/Octave, IDL, google engine</td>\n",
       "      <td>Graduate student</td>\n",
       "      <td>volcanology</td>\n",
       "    </tr>\n",
       "    <tr>\n",
       "      <th>15</th>\n",
       "      <td>Windows</td>\n",
       "      <td>Took a basic programming course, Self-taught w...</td>\n",
       "      <td>Matlab/Octave</td>\n",
       "      <td>Faculty</td>\n",
       "      <td>Volcanology</td>\n",
       "    </tr>\n",
       "    <tr>\n",
       "      <th>16</th>\n",
       "      <td>Mac (OSX)</td>\n",
       "      <td>Took a basic programming course</td>\n",
       "      <td>Python, Matlab/Octave</td>\n",
       "      <td>Graduate student</td>\n",
       "      <td>Coastal Hydrology</td>\n",
       "    </tr>\n",
       "    <tr>\n",
       "      <th>17</th>\n",
       "      <td>Windows</td>\n",
       "      <td>Never programmed before</td>\n",
       "      <td>None (I told I've never programmed before)</td>\n",
       "      <td>Graduate student</td>\n",
       "      <td>Hydrology</td>\n",
       "    </tr>\n",
       "    <tr>\n",
       "      <th>18</th>\n",
       "      <td>Mac (OSX)</td>\n",
       "      <td>Took a basic programming course, Self-taught w...</td>\n",
       "      <td>Python</td>\n",
       "      <td>Graduate student</td>\n",
       "      <td>Voclanology/Remote Sensing</td>\n",
       "    </tr>\n",
       "    <tr>\n",
       "      <th>19</th>\n",
       "      <td>Mac (OSX)</td>\n",
       "      <td>Took a basic programming course</td>\n",
       "      <td>javascript, html</td>\n",
       "      <td>Undergraduate student</td>\n",
       "      <td>Geology and Geophysics</td>\n",
       "    </tr>\n",
       "    <tr>\n",
       "      <th>20</th>\n",
       "      <td>Mac (OSX)</td>\n",
       "      <td>Self-taught with moderate/advanced experience</td>\n",
       "      <td>Matlab/Octave, R</td>\n",
       "      <td>Graduate student</td>\n",
       "      <td>Planetary sciences</td>\n",
       "    </tr>\n",
       "    <tr>\n",
       "      <th>21</th>\n",
       "      <td>Mac (OSX)</td>\n",
       "      <td>Never programmed before, Did a little bit of s...</td>\n",
       "      <td>Python</td>\n",
       "      <td>Undergraduate student</td>\n",
       "      <td>Conservation</td>\n",
       "    </tr>\n",
       "    <tr>\n",
       "      <th>22</th>\n",
       "      <td>Windows</td>\n",
       "      <td>Took a basic programming course, Self-taught w...</td>\n",
       "      <td>C/C++, R</td>\n",
       "      <td>Graduate student</td>\n",
       "      <td>Environmental science</td>\n",
       "    </tr>\n",
       "    <tr>\n",
       "      <th>23</th>\n",
       "      <td>Windows</td>\n",
       "      <td>Self-taught with little experience</td>\n",
       "      <td>Python, Matlab/Octave</td>\n",
       "      <td>Graduate student</td>\n",
       "      <td>Electrical Engineering</td>\n",
       "    </tr>\n",
       "    <tr>\n",
       "      <th>24</th>\n",
       "      <td>Windows</td>\n",
       "      <td>Took a basic programming course</td>\n",
       "      <td>Fortran, Matlab/Octave, R</td>\n",
       "      <td>Graduate student</td>\n",
       "      <td>natural resources and environmental management</td>\n",
       "    </tr>\n",
       "    <tr>\n",
       "      <th>25</th>\n",
       "      <td>GNU/Linux</td>\n",
       "      <td>Self-taught with moderate/advanced experience</td>\n",
       "      <td>Python, Matlab/Octave, R, Bash Shell(?)</td>\n",
       "      <td>Marine Geophysical Data Tech</td>\n",
       "      <td>Marine Geophysics</td>\n",
       "    </tr>\n",
       "    <tr>\n",
       "      <th>26</th>\n",
       "      <td>Windows</td>\n",
       "      <td>Self-taught with moderate/advanced experience</td>\n",
       "      <td>Python, Matlab/Octave, R</td>\n",
       "      <td>Graduate student</td>\n",
       "      <td>ecohydrology (in the Geography Department)</td>\n",
       "    </tr>\n",
       "    <tr>\n",
       "      <th>27</th>\n",
       "      <td>Mac (OSX)</td>\n",
       "      <td>Never programmed before</td>\n",
       "      <td>None (I told I've never programmed before)</td>\n",
       "      <td>Interested citizen</td>\n",
       "      <td>Film production and education</td>\n",
       "    </tr>\n",
       "    <tr>\n",
       "      <th>28</th>\n",
       "      <td>Mac (OSX)</td>\n",
       "      <td>Self-taught with little experience</td>\n",
       "      <td>Python</td>\n",
       "      <td>Graduate student</td>\n",
       "      <td>Geography</td>\n",
       "    </tr>\n",
       "    <tr>\n",
       "      <th>29</th>\n",
       "      <td>GNU/Linux</td>\n",
       "      <td>Took intermediate/advanced programming course</td>\n",
       "      <td>Python, C/C++, Fortran</td>\n",
       "      <td>Na Kupuna student</td>\n",
       "      <td>civil engineering</td>\n",
       "    </tr>\n",
       "    <tr>\n",
       "      <th>30</th>\n",
       "      <td>Mac (OSX)</td>\n",
       "      <td>Did a little bit of shell scripting, Took a ba...</td>\n",
       "      <td>Fortran, BASIC (yes, really)</td>\n",
       "      <td>Faculty</td>\n",
       "      <td>Geo Oceanography -- a lot of seafloor mapping</td>\n",
       "    </tr>\n",
       "    <tr>\n",
       "      <th>31</th>\n",
       "      <td>Windows</td>\n",
       "      <td>Never programmed before</td>\n",
       "      <td>None (I told I've never programmed before)</td>\n",
       "      <td>Graduate student</td>\n",
       "      <td>Geochemistry</td>\n",
       "    </tr>\n",
       "    <tr>\n",
       "      <th>32</th>\n",
       "      <td>Mac (OSX)</td>\n",
       "      <td>Took a basic programming course</td>\n",
       "      <td>Matlab/Octave</td>\n",
       "      <td>Graduate student</td>\n",
       "      <td>Mineral physics</td>\n",
       "    </tr>\n",
       "    <tr>\n",
       "      <th>33</th>\n",
       "      <td>Windows</td>\n",
       "      <td>Did a little bit of shell scripting</td>\n",
       "      <td>R, bit of awk/sed for GMT tasks</td>\n",
       "      <td>gov't researcher</td>\n",
       "      <td>marine geology</td>\n",
       "    </tr>\n",
       "    <tr>\n",
       "      <th>34</th>\n",
       "      <td>Mac (OSX)</td>\n",
       "      <td>Never programmed before</td>\n",
       "      <td>None (I told I've never programmed before)</td>\n",
       "      <td>Undergraduate student</td>\n",
       "      <td>Geology</td>\n",
       "    </tr>\n",
       "  </tbody>\n",
       "</table>\n",
       "</div>"
      ],
      "text/plain": [
       "           os                                         experience  \\\n",
       "0   Mac (OSX)                Did a little bit of shell scripting   \n",
       "1   Mac (OSX)  Took a basic programming course, Self-taught w...   \n",
       "2   Mac (OSX)  Took a basic programming course, Took intermed...   \n",
       "3     Windows                    Took a basic programming course   \n",
       "4   Mac (OSX)                    Took a basic programming course   \n",
       "5   Mac (OSX)                    Took a basic programming course   \n",
       "6     Windows      Self-taught with moderate/advanced experience   \n",
       "7     Windows                Did a little bit of shell scripting   \n",
       "8   Mac (OSX)  Took a basic programming course, Took intermed...   \n",
       "9   Mac (OSX)      Took intermediate/advanced programming course   \n",
       "10    Windows                 Self-taught with little experience   \n",
       "11  Mac (OSX)                            Never programmed before   \n",
       "12  Mac (OSX)  Took intermediate/advanced programming course,...   \n",
       "13  Mac (OSX)  Never programmed before, Self-taught with litt...   \n",
       "14    Windows  Took a basic programming course, Self-taught w...   \n",
       "15    Windows  Took a basic programming course, Self-taught w...   \n",
       "16  Mac (OSX)                    Took a basic programming course   \n",
       "17    Windows                            Never programmed before   \n",
       "18  Mac (OSX)  Took a basic programming course, Self-taught w...   \n",
       "19  Mac (OSX)                    Took a basic programming course   \n",
       "20  Mac (OSX)      Self-taught with moderate/advanced experience   \n",
       "21  Mac (OSX)  Never programmed before, Did a little bit of s...   \n",
       "22    Windows  Took a basic programming course, Self-taught w...   \n",
       "23    Windows                 Self-taught with little experience   \n",
       "24    Windows                    Took a basic programming course   \n",
       "25  GNU/Linux      Self-taught with moderate/advanced experience   \n",
       "26    Windows      Self-taught with moderate/advanced experience   \n",
       "27  Mac (OSX)                            Never programmed before   \n",
       "28  Mac (OSX)                 Self-taught with little experience   \n",
       "29  GNU/Linux      Took intermediate/advanced programming course   \n",
       "30  Mac (OSX)  Did a little bit of shell scripting, Took a ba...   \n",
       "31    Windows                            Never programmed before   \n",
       "32  Mac (OSX)                    Took a basic programming course   \n",
       "33    Windows                Did a little bit of shell scripting   \n",
       "34  Mac (OSX)                            Never programmed before   \n",
       "\n",
       "                                            languages  \\\n",
       "0                               Python, Matlab/Octave   \n",
       "1                       C/C++, Fortran, Matlab/Octave   \n",
       "2   C/C++, Matlab/Octave, JAVA, VRML, MEL, UnrealS...   \n",
       "3                                       Matlab/Octave   \n",
       "4                                C/C++, Matlab/Octave   \n",
       "5   Matlab/Octave, I use matlab from time to time ...   \n",
       "6                           Fortran, Matlab/Octave, R   \n",
       "7                                       Matlab/Octave   \n",
       "8                        Python, C/C++, Matlab/Octave   \n",
       "9                                    Matlab/Octave, R   \n",
       "10                                             Python   \n",
       "11         None (I told I've never programmed before)   \n",
       "12                      C/C++, Matlab/Octave, R, Java   \n",
       "13                                         Javascript   \n",
       "14                  Matlab/Octave, IDL, google engine   \n",
       "15                                      Matlab/Octave   \n",
       "16                              Python, Matlab/Octave   \n",
       "17         None (I told I've never programmed before)   \n",
       "18                                             Python   \n",
       "19                                   javascript, html   \n",
       "20                                   Matlab/Octave, R   \n",
       "21                                             Python   \n",
       "22                                           C/C++, R   \n",
       "23                              Python, Matlab/Octave   \n",
       "24                          Fortran, Matlab/Octave, R   \n",
       "25            Python, Matlab/Octave, R, Bash Shell(?)   \n",
       "26                           Python, Matlab/Octave, R   \n",
       "27         None (I told I've never programmed before)   \n",
       "28                                             Python   \n",
       "29                             Python, C/C++, Fortran   \n",
       "30                       Fortran, BASIC (yes, really)   \n",
       "31         None (I told I've never programmed before)   \n",
       "32                                      Matlab/Octave   \n",
       "33                    R, bit of awk/sed for GMT tasks   \n",
       "34         None (I told I've never programmed before)   \n",
       "\n",
       "                        position  \\\n",
       "0               Graduate student   \n",
       "1                        Faculty   \n",
       "2               Graduate student   \n",
       "3                          Staff   \n",
       "4               Graduate student   \n",
       "5               Graduate student   \n",
       "6                        Postdoc   \n",
       "7               Graduate student   \n",
       "8                        Faculty   \n",
       "9               Graduate student   \n",
       "10                         Staff   \n",
       "11              Graduate student   \n",
       "12                       Faculty   \n",
       "13         Undergraduate student   \n",
       "14              Graduate student   \n",
       "15                       Faculty   \n",
       "16              Graduate student   \n",
       "17              Graduate student   \n",
       "18              Graduate student   \n",
       "19         Undergraduate student   \n",
       "20              Graduate student   \n",
       "21         Undergraduate student   \n",
       "22              Graduate student   \n",
       "23              Graduate student   \n",
       "24              Graduate student   \n",
       "25  Marine Geophysical Data Tech   \n",
       "26              Graduate student   \n",
       "27            Interested citizen   \n",
       "28              Graduate student   \n",
       "29             Na Kupuna student   \n",
       "30                       Faculty   \n",
       "31              Graduate student   \n",
       "32              Graduate student   \n",
       "33              gov't researcher   \n",
       "34         Undergraduate student   \n",
       "\n",
       "                                             field  \n",
       "0                                       Geophysics  \n",
       "1                                  Plate Tectonics  \n",
       "2                                   GG (Hydrology)  \n",
       "3                           Geology and Geophysics  \n",
       "4                                     Geochemistry  \n",
       "5                 Coastal Geology & sea-level rise  \n",
       "6                              Watershed hydrology  \n",
       "7                                  Mineral Physics  \n",
       "8                                  Mineral Physics  \n",
       "9                                       geophysics  \n",
       "10                                   Geomorphology  \n",
       "11                              Hydrology modeling  \n",
       "12                                 Coastal Geology  \n",
       "13                                      Geophysics  \n",
       "14                                     volcanology  \n",
       "15                                     Volcanology  \n",
       "16                               Coastal Hydrology  \n",
       "17                                       Hydrology  \n",
       "18                      Voclanology/Remote Sensing  \n",
       "19                          Geology and Geophysics  \n",
       "20                              Planetary sciences  \n",
       "21                                    Conservation  \n",
       "22                           Environmental science  \n",
       "23                          Electrical Engineering  \n",
       "24  natural resources and environmental management  \n",
       "25                               Marine Geophysics  \n",
       "26      ecohydrology (in the Geography Department)  \n",
       "27                   Film production and education  \n",
       "28                                       Geography  \n",
       "29                               civil engineering  \n",
       "30   Geo Oceanography -- a lot of seafloor mapping  \n",
       "31                                    Geochemistry  \n",
       "32                                 Mineral physics  \n",
       "33                                  marine geology  \n",
       "34                                         Geology  "
      ]
     },
     "execution_count": 4,
     "metadata": {},
     "output_type": "execute_result"
    }
   ],
   "source": [
    "data"
   ]
  },
  {
   "cell_type": "markdown",
   "metadata": {},
   "source": [
    "## Attendance"
   ]
  },
  {
   "cell_type": "markdown",
   "metadata": {},
   "source": [
    "First lets see the number of people who signed up:"
   ]
  },
  {
   "cell_type": "code",
   "execution_count": 5,
   "metadata": {
    "collapsed": false
   },
   "outputs": [
    {
     "data": {
      "text/plain": [
       "35"
      ]
     },
     "execution_count": 5,
     "metadata": {},
     "output_type": "execute_result"
    }
   ],
   "source": [
    "len(data)"
   ]
  },
  {
   "cell_type": "markdown",
   "metadata": {},
   "source": [
    "From the shared notes, I also know how many people showed up after each day."
   ]
  },
  {
   "cell_type": "code",
   "execution_count": 6,
   "metadata": {
    "collapsed": true
   },
   "outputs": [],
   "source": [
    "attendance = pd.Series([len(data), 31, 21, 21], index=['Signed up', 'Day 1', 'Day 2', 'Day 3'])"
   ]
  },
  {
   "cell_type": "code",
   "execution_count": 7,
   "metadata": {
    "collapsed": false,
    "scrolled": true
   },
   "outputs": [
    {
     "data": {
      "image/png": "[encoded data removed]",
      "text/plain": [
       "<matplotlib.figure.Figure at 0x7f9a92221a20>"
      ]
     },
     "metadata": {},
     "output_type": "display_data"
    }
   ],
   "source": [
    "plt.figure()\n",
    "ax = plt.subplot(111)\n",
    "attendance.plot.barh(ax=ax)\n",
    "ax.invert_yaxis()\n",
    "ax.set_title('Attendance for the workshop')\n",
    "ax.set_xlabel('Participants')\n",
    "plt.tight_layout()\n",
    "plt.savefig('figures/attendance.jpg')\n",
    "plt.show()"
   ]
  },
  {
   "cell_type": "markdown",
   "metadata": {},
   "source": [
    " We had a bit of a drop off after the first day. The people who came the seconda day also came on the third. Not too bad."
   ]
  },
  {
   "cell_type": "markdown",
   "metadata": {},
   "source": [
    "## Programming experience\n",
    "\n",
    "Let's first look at the programming experience declared by the participants. I'll keep only the highest level declared and count how many people declared that level."
   ]
  },
  {
   "cell_type": "code",
   "execution_count": 8,
   "metadata": {
    "collapsed": true
   },
   "outputs": [],
   "source": [
    "# Keep only the last (highest) element in the declared experience\n",
    "data['highest_experience'] = pd.Series([e.split(', ')[-1] for e in data['experience']])"
   ]
  },
  {
   "cell_type": "code",
   "execution_count": 9,
   "metadata": {
    "collapsed": false
   },
   "outputs": [
    {
     "data": {
      "image/png": "[encoded data removed]",
      "text/plain": [
       "<matplotlib.figure.Figure at 0x7f9a8edecc88>"
      ]
     },
     "metadata": {},
     "output_type": "display_data"
    }
   ],
   "source": [
    "plt.figure()\n",
    "ax = plt.subplot(111)\n",
    "data.highest_experience.value_counts().plot.barh(ax=ax)\n",
    "ax.invert_yaxis()\n",
    "ax.set_title('Highest experience declared')\n",
    "ax.set_xlabel('Participants')\n",
    "plt.tight_layout()\n",
    "plt.savefig('figures/education.jpg')\n",
    "plt.show()"
   ]
  },
  {
   "cell_type": "markdown",
   "metadata": {},
   "source": [
    "The workshop participants have very mixed experience levels, from people who have never programmed before to self-taught programmers. That was expected and it's also not surprising that very few people indicated that they reached their level by taking an advanced course."
   ]
  },
  {
   "cell_type": "markdown",
   "metadata": {},
   "source": [
    "## Programming languages\n",
    "\n",
    "Let's look at the programming language experience. I'll focus on a few main languages and group the others into \"Others\"."
   ]
  },
  {
   "cell_type": "code",
   "execution_count": 10,
   "metadata": {
    "collapsed": true
   },
   "outputs": [],
   "source": [
    "main_languages = ['Python', 'Matlab/Octave', 'C/C++', 'Fortran', 'R', \"None (I told I've never programmed before)\"]"
   ]
  },
  {
   "cell_type": "markdown",
   "metadata": {},
   "source": [
    "Make a function to mark any other language as \"Other\" and simplify the \"None\" entry."
   ]
  },
  {
   "cell_type": "code",
   "execution_count": 11,
   "metadata": {
    "collapsed": true
   },
   "outputs": [],
   "source": [
    "def only_main(lang):\n",
    "    if lang not in main_languages:\n",
    "        lang = 'Other'\n",
    "    if lang == \"None (I told I've never programmed before)\":\n",
    "        lang = 'None'\n",
    "    return lang"
   ]
  },
  {
   "cell_type": "code",
   "execution_count": 12,
   "metadata": {
    "collapsed": true
   },
   "outputs": [],
   "source": [
    "languages = pd.Series([only_main(lang) \n",
    "                       for entry in data['languages'] \n",
    "                       for lang in entry.split(', ')]).value_counts()"
   ]
  },
  {
   "cell_type": "code",
   "execution_count": 13,
   "metadata": {
    "collapsed": false
   },
   "outputs": [
    {
     "data": {
      "text/plain": [
       "Matlab/Octave    20\n",
       "Other            15\n",
       "Python           11\n",
       "R                 9\n",
       "C/C++             7\n",
       "Fortran           5\n",
       "None              5\n",
       "dtype: int64"
      ]
     },
     "execution_count": 13,
     "metadata": {},
     "output_type": "execute_result"
    }
   ],
   "source": [
    "languages"
   ]
  },
  {
   "cell_type": "code",
   "execution_count": 14,
   "metadata": {
    "collapsed": false
   },
   "outputs": [
    {
     "data": {
      "image/png": "[encoded data removed]",
      "text/plain": [
       "<matplotlib.figure.Figure at 0x7f9a8ed45ba8>"
      ]
     },
     "metadata": {},
     "output_type": "display_data"
    }
   ],
   "source": [
    "plt.figure()\n",
    "ax = plt.subplot(111)\n",
    "languages.plot.barh(ax=ax)\n",
    "ax.invert_yaxis()\n",
    "ax.set_title('Programming language experience')\n",
    "ax.set_xlabel('Participants')\n",
    "ax.set_xticks(range(0, 22, 3))\n",
    "plt.tight_layout()\n",
    "plt.savefig('figures/programming-languages.jpg')\n",
    "plt.show()"
   ]
  },
  {
   "cell_type": "markdown",
   "metadata": {},
   "source": [
    "The dominant language in the department is clearly Matlab, though a few people also know R. Fortran is very low here apparently."
   ]
  },
  {
   "cell_type": "markdown",
   "metadata": {},
   "source": [
    "## Position at the University\n",
    "\n",
    "Finally, we can look at what the participants do."
   ]
  },
  {
   "cell_type": "code",
   "execution_count": 15,
   "metadata": {
    "collapsed": false
   },
   "outputs": [
    {
     "data": {
      "image/png": "[encoded data removed]",
      "text/plain": [
       "<matplotlib.figure.Figure at 0x7f9a8ec0b3c8>"
      ]
     },
     "metadata": {},
     "output_type": "display_data"
    }
   ],
   "source": [
    "plt.figure()\n",
    "ax = plt.subplot(111)\n",
    "data['position'].value_counts().plot.barh(ax=ax)\n",
    "ax.invert_yaxis()\n",
    "ax.set_title('Position')\n",
    "ax.set_xlabel('Participants')\n",
    "ax.set_xticks(range(0, 22, 3))\n",
    "plt.tight_layout()\n",
    "plt.savefig('figures/position.jpg')\n",
    "plt.show()"
   ]
  },
  {
   "cell_type": "markdown",
   "metadata": {},
   "source": [
    "Not surprisingly, a majority are grad students. I was very pleased to have someone from the [Na Kupuna program](https://www.hawaii.edu/diversity/seed-programs/na-kupuna-senior-citizen-visitor-program/) and a not insignificant number of faculty."
   ]
  }
 ],
 "metadata": {
  "kernelspec": {
   "display_name": "Python 3",
   "language": "python",
   "name": "python3"
  },
  "language_info": {
   "codemirror_mode": {
    "name": "ipython",
    "version": 3
   },
   "file_extension": ".py",
   "mimetype": "text/x-python",
   "name": "python",
   "nbconvert_exporter": "python",
   "pygments_lexer": "ipython3",
   "version": "3.6.0"
  }
 },
 "nbformat": 4,
 "nbformat_minor": 2
}
