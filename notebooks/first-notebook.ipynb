{
 "cells": [
  {
   "cell_type": "code",
   "execution_count": 2,
   "metadata": {},
   "outputs": [
    {
     "data": {
      "text/plain": [
       "6"
      ]
     },
     "execution_count": 2,
     "metadata": {},
     "output_type": "execute_result"
    }
   ],
   "source": [
    "1 + 5"
   ]
  },
  {
   "cell_type": "markdown",
   "metadata": {},
   "source": [
    "# A Jupyter notebook\n",
    "\n",
    "This is my **first notebook** for the \n",
    "*day* if my \n",
    "computer is collaborating.\n",
    "\n",
    "Another paragraph.\n",
    "\n",
    "* first\n",
    "* second\n",
    "* third\n",
    "\n",
    "\n",
    "1. Something\n",
    "2. other\n",
    "\n",
    "\n",
    "![A image from the internet](https://www.soest.hawaii.edu/soestwp/wp-content/uploads/2017/03/Honolulu_street_flooding_video_still-794x500.png)\n",
    "\n",
    "[Image source](https://www.soest.hawaii.edu/soestwp/announce/news/sea-level-changes-threaten-low-lying-areas/)"
   ]
  },
  {
   "cell_type": "markdown",
   "metadata": {
    "collapsed": true
   },
   "source": [
    "![GMT logo](folder/GMT_coverlogo.png)"
   ]
  },
  {
   "cell_type": "code",
   "execution_count": null,
   "metadata": {
    "collapsed": true
   },
   "outputs": [],
   "source": []
  }
 ],
 "metadata": {
  "kernelspec": {
   "display_name": "Python 3",
   "language": "python",
   "name": "python3"
  },
  "language_info": {
   "codemirror_mode": {
    "name": "ipython",
    "version": 3
   },
   "file_extension": ".py",
   "mimetype": "text/x-python",
   "name": "python",
   "nbconvert_exporter": "python",
   "pygments_lexer": "ipython3",
   "version": "3.6.1"
  }
 },
 "nbformat": 4,
 "nbformat_minor": 2
}
