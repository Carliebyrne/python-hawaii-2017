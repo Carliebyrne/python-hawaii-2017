{
 "cells": [
  {
   "cell_type": "code",
   "execution_count": 2,
   "metadata": {
    "collapsed": true
   },
   "outputs": [],
   "source": [
    "import numpy as np"
   ]
  },
  {
   "cell_type": "code",
   "execution_count": 4,
   "metadata": {},
   "outputs": [],
   "source": [
    "angles = [30, 45, 180, 275]"
   ]
  },
  {
   "cell_type": "code",
   "execution_count": 6,
   "metadata": {},
   "outputs": [
    {
     "data": {
      "text/plain": [
       "array([  5.00000000e-01,   7.07106781e-01,   1.22464680e-16,\n",
       "        -9.96194698e-01])"
      ]
     },
     "execution_count": 6,
     "metadata": {},
     "output_type": "execute_result"
    }
   ],
   "source": [
    "np.sin(np.radians(angles))"
   ]
  },
  {
   "cell_type": "code",
   "execution_count": 7,
   "metadata": {},
   "outputs": [
    {
     "data": {
      "text/plain": [
       "[30, 45, 180, 275, 30, 45, 180, 275]"
      ]
     },
     "execution_count": 7,
     "metadata": {},
     "output_type": "execute_result"
    }
   ],
   "source": [
    "angles*2"
   ]
  },
  {
   "cell_type": "code",
   "execution_count": 8,
   "metadata": {
    "collapsed": true
   },
   "outputs": [],
   "source": [
    "angles_array = np.array(angles)"
   ]
  },
  {
   "cell_type": "code",
   "execution_count": 9,
   "metadata": {},
   "outputs": [
    {
     "data": {
      "text/plain": [
       "array([ 30,  45, 180, 275])"
      ]
     },
     "execution_count": 9,
     "metadata": {},
     "output_type": "execute_result"
    }
   ],
   "source": [
    "angles_array"
   ]
  },
  {
   "cell_type": "code",
   "execution_count": 10,
   "metadata": {},
   "outputs": [
    {
     "data": {
      "text/plain": [
       "array([ 60,  90, 360, 550])"
      ]
     },
     "execution_count": 10,
     "metadata": {},
     "output_type": "execute_result"
    }
   ],
   "source": [
    "angles_array*2"
   ]
  },
  {
   "cell_type": "code",
   "execution_count": 11,
   "metadata": {},
   "outputs": [
    {
     "data": {
      "text/plain": [
       "array([  15. ,   22.5,   90. ,  137.5])"
      ]
     },
     "execution_count": 11,
     "metadata": {},
     "output_type": "execute_result"
    }
   ],
   "source": [
    "angles_array/2"
   ]
  },
  {
   "cell_type": "code",
   "execution_count": 12,
   "metadata": {},
   "outputs": [
    {
     "data": {
      "text/plain": [
       "array([   27000,    91125,  5832000, 20796875])"
      ]
     },
     "execution_count": 12,
     "metadata": {},
     "output_type": "execute_result"
    }
   ],
   "source": [
    "angles_array**3"
   ]
  },
  {
   "cell_type": "code",
   "execution_count": 13,
   "metadata": {
    "collapsed": true
   },
   "outputs": [],
   "source": [
    "a = np.array([1, 2, 3])\n",
    "b = np.array([4, 5, 6])"
   ]
  },
  {
   "cell_type": "code",
   "execution_count": 14,
   "metadata": {},
   "outputs": [
    {
     "data": {
      "text/plain": [
       "array([ 4, 10, 18])"
      ]
     },
     "execution_count": 14,
     "metadata": {},
     "output_type": "execute_result"
    }
   ],
   "source": [
    "a*b"
   ]
  },
  {
   "cell_type": "code",
   "execution_count": 15,
   "metadata": {},
   "outputs": [
    {
     "data": {
      "text/plain": [
       "array([5, 7, 9])"
      ]
     },
     "execution_count": 15,
     "metadata": {},
     "output_type": "execute_result"
    }
   ],
   "source": [
    "a + b"
   ]
  },
  {
   "cell_type": "code",
   "execution_count": 16,
   "metadata": {},
   "outputs": [
    {
     "data": {
      "text/plain": [
       "array([  1,  32, 729])"
      ]
     },
     "execution_count": 16,
     "metadata": {},
     "output_type": "execute_result"
    }
   ],
   "source": [
    "a**b"
   ]
  },
  {
   "cell_type": "code",
   "execution_count": 19,
   "metadata": {
    "collapsed": true
   },
   "outputs": [],
   "source": [
    "a_list = [[1, 2, 3], [4, 5, 6], 'bla']"
   ]
  },
  {
   "cell_type": "code",
   "execution_count": 21,
   "metadata": {},
   "outputs": [
    {
     "data": {
      "text/plain": [
       "'bla'"
      ]
     },
     "execution_count": 21,
     "metadata": {},
     "output_type": "execute_result"
    }
   ],
   "source": [
    "a_list[2]"
   ]
  },
  {
   "cell_type": "code",
   "execution_count": 22,
   "metadata": {
    "collapsed": true
   },
   "outputs": [],
   "source": [
    "mat_a = np.array([[1, 2, 3], [4, 5, 6]])"
   ]
  },
  {
   "cell_type": "code",
   "execution_count": 23,
   "metadata": {},
   "outputs": [
    {
     "data": {
      "text/plain": [
       "array([[1, 2, 3],\n",
       "       [4, 5, 6]])"
      ]
     },
     "execution_count": 23,
     "metadata": {},
     "output_type": "execute_result"
    }
   ],
   "source": [
    "mat_a"
   ]
  },
  {
   "cell_type": "code",
   "execution_count": 29,
   "metadata": {},
   "outputs": [
    {
     "data": {
      "text/plain": [
       "6"
      ]
     },
     "execution_count": 29,
     "metadata": {},
     "output_type": "execute_result"
    }
   ],
   "source": [
    "mat_a[1, 2]"
   ]
  },
  {
   "cell_type": "code",
   "execution_count": 34,
   "metadata": {},
   "outputs": [
    {
     "data": {
      "text/plain": [
       "array([1, 2, 3])"
      ]
     },
     "execution_count": 34,
     "metadata": {},
     "output_type": "execute_result"
    }
   ],
   "source": [
    "mat_a[0, :]"
   ]
  },
  {
   "cell_type": "code",
   "execution_count": 35,
   "metadata": {},
   "outputs": [
    {
     "data": {
      "text/plain": [
       "array([1, 4])"
      ]
     },
     "execution_count": 35,
     "metadata": {},
     "output_type": "execute_result"
    }
   ],
   "source": [
    "mat_a[:, 0]"
   ]
  },
  {
   "cell_type": "code",
   "execution_count": 37,
   "metadata": {},
   "outputs": [],
   "source": [
    "data = np.loadtxt('sample-data.txt')"
   ]
  },
  {
   "cell_type": "code",
   "execution_count": 40,
   "metadata": {},
   "outputs": [
    {
     "data": {
      "text/plain": [
       "array([ 20.365407,  20.951167,  20.92641 ,  20.589116,  20.576204,\n",
       "        21.088918,  21.641279,  21.632563,  21.060982,  20.526926,\n",
       "        20.52184 ,  20.851166,  20.879535,  20.304723,  19.535619,\n",
       "        19.221977,  19.496119,  19.830605,  19.680766,  19.144369,\n",
       "        18.850448,  19.20964 ,  19.920745,  20.322684,  20.172239,\n",
       "        19.919974,  20.155919,  20.887667,  21.513658,  21.524636,\n",
       "        21.09708 ,  20.871192,  21.179153,  21.645266,  21.635466,\n",
       "        21.019594,  20.33626 ,  20.162906,  20.442158,  20.567534,\n",
       "        20.125133,  19.404915,  19.070232,  19.379067,  19.885696,\n",
       "        19.978253,  19.61022 ,  19.352681,  19.705158,  20.488098,\n",
       "        21.042828,  21.001221,  20.707447,  20.789519,  21.393138,\n",
       "        21.993359,  22.009766,  21.49162 ,  21.055662,  21.151029,\n",
       "        21.528609,  21.547853,  20.954257,  20.198695,  19.916489,\n",
       "        20.186894,  20.455764,  20.212617,  19.612973,  19.302342,\n",
       "        19.65134 ,  20.314535,  20.639512,  20.4381  ,  20.199705,\n",
       "        20.492826,  21.270001,  21.90682 ,  21.929558,  21.564034,\n",
       "        21.451633,  21.872343,  22.402911,  22.418604,  21.839909,\n",
       "        21.232849,  21.14284 ,  21.456599,  21.552908,  21.061315,\n",
       "        20.322105,  19.997415,  20.296577,  20.739322,  20.73867 ,\n",
       "        20.307163,  20.043146,  20.413384,  21.188481,  21.705453,\n",
       "        21.644745,  21.395163,  21.572177,  22.265646,  22.915987,\n",
       "        22.967627,  22.520705,  22.20386 ,  22.420452,  22.868111,\n",
       "        22.905031,  22.325457,  21.618166,  21.398615,  21.691554,\n",
       "        21.9193  ,  21.608544,  20.970967,  20.663674,  21.014559,\n",
       "        21.636598,  21.89108 ,  21.646806,  21.429264,  21.782217,\n",
       "        22.604386,  23.253875,  23.296718,  23.007207,  23.023919,\n",
       "        23.573055,  24.187004,  24.254783,  23.747824,  23.255057,\n",
       "        23.285332,  23.669484,  23.775132,  23.277019,  22.562459,\n",
       "        22.286869,  22.608781,  23.016329,  22.951335,  22.48526 ,\n",
       "        22.239616,  22.645467,  23.4258  ,  23.918788,  23.856577,\n",
       "        23.670747,  23.960742,  24.760793,  25.481422,  25.59646 ,\n",
       "        25.256609,  25.098118,  25.47565 ,  26.035481,  26.138663,\n",
       "        25.62902 ,  25.028971,  24.928857,  25.297861,  25.538025,\n",
       "        25.215811,  24.596904,  24.344841,  24.742189,  25.363044,\n",
       "        25.587141,  25.341585,  25.184788,  25.632639,  26.531627,\n",
       "        27.227866,  27.331167,  27.163199,  27.355936,  28.08078 ,\n",
       "        28.829518,  29.009474,  28.64321 ,  28.338109,  28.562375,\n",
       "        29.091542,  29.285812,  28.8666  ,  28.26461 ,  28.12301 ,\n",
       "        28.547632,  28.998032,  28.948354,  28.528208,  28.377803,\n",
       "        28.889622,  29.741415,  30.277839,  30.285412,  30.236276])"
      ]
     },
     "execution_count": 40,
     "metadata": {},
     "output_type": "execute_result"
    }
   ],
   "source": [
    "data[:, 1]"
   ]
  },
  {
   "cell_type": "code",
   "execution_count": 41,
   "metadata": {},
   "outputs": [
    {
     "data": {
      "text/plain": [
       "0.0"
      ]
     },
     "execution_count": 41,
     "metadata": {},
     "output_type": "execute_result"
    }
   ],
   "source": [
    "np.min(data)"
   ]
  },
  {
   "cell_type": "code",
   "execution_count": 42,
   "metadata": {},
   "outputs": [
    {
     "data": {
      "text/plain": [
       "0.0"
      ]
     },
     "execution_count": 42,
     "metadata": {},
     "output_type": "execute_result"
    }
   ],
   "source": [
    "data.min()"
   ]
  },
  {
   "cell_type": "code",
   "execution_count": 43,
   "metadata": {},
   "outputs": [
    {
     "data": {
      "text/plain": [
       "36.348319182499999"
      ]
     },
     "execution_count": 43,
     "metadata": {},
     "output_type": "execute_result"
    }
   ],
   "source": [
    "data.mean()"
   ]
  },
  {
   "cell_type": "markdown",
   "metadata": {},
   "source": [
    "Data:\n",
    "\n",
    "    time   temperature\n",
    "    0      20\n",
    "    ...\n",
    "    \n",
    "Calculate:\n",
    "\n",
    "* mininum temperature\n",
    "* maximum temperature\n",
    "* mean temperature\n",
    "* standard deviation of temperature"
   ]
  },
  {
   "cell_type": "code",
   "execution_count": 46,
   "metadata": {},
   "outputs": [
    {
     "data": {
      "text/plain": [
       "'/home/leo/python-workshop'"
      ]
     },
     "execution_count": 46,
     "metadata": {},
     "output_type": "execute_result"
    }
   ],
   "source": [
    "pwd"
   ]
  },
  {
   "cell_type": "code",
   "execution_count": 47,
   "metadata": {},
   "outputs": [
    {
     "data": {
      "text/plain": [
       "18.850448"
      ]
     },
     "execution_count": 47,
     "metadata": {},
     "output_type": "execute_result"
    }
   ],
   "source": [
    "np.min(data[:, 1])"
   ]
  },
  {
   "cell_type": "code",
   "execution_count": 54,
   "metadata": {},
   "outputs": [
    {
     "data": {
      "text/plain": [
       "65.930806399999994"
      ]
     },
     "execution_count": 54,
     "metadata": {},
     "output_type": "execute_result"
    }
   ],
   "source": [
    "(data[:, 1]*9/5 + 32).min()"
   ]
  },
  {
   "cell_type": "code",
   "execution_count": 55,
   "metadata": {
    "collapsed": true
   },
   "outputs": [],
   "source": [
    "time = data[:, 0]\n",
    "temperature = data[:, 1]"
   ]
  },
  {
   "cell_type": "code",
   "execution_count": 57,
   "metadata": {},
   "outputs": [],
   "source": [
    "import matplotlib.pyplot as plt"
   ]
  },
  {
   "cell_type": "code",
   "execution_count": 68,
   "metadata": {},
   "outputs": [
    {
     "data": {
      "image/png": "[encoded data removed]",
      "text/plain": [
       "<matplotlib.figure.Figure at 0x7f330a667128>"
      ]
     },
     "metadata": {},
     "output_type": "display_data"
    }
   ],
   "source": [
    "with plt.xkcd():\n",
    "    plt.figure()\n",
    "    plt.plot(time, temperature)\n",
    "    plt.xlabel('time (years)')\n",
    "    plt.ylabel('temperature (C)')\n",
    "    plt.title('Temperature data')\n",
    "    plt.show()"
   ]
  },
  {
   "cell_type": "code",
   "execution_count": null,
   "metadata": {
    "collapsed": true
   },
   "outputs": [],
   "source": []
  }
 ],
 "metadata": {
  "kernelspec": {
   "display_name": "Python [conda env:python-hawaii]",
   "language": "python",
   "name": "conda-env-python-hawaii-py"
  },
  "language_info": {
   "codemirror_mode": {
    "name": "ipython",
    "version": 3
   },
   "file_extension": ".py",
   "mimetype": "text/x-python",
   "name": "python",
   "nbconvert_exporter": "python",
   "pygments_lexer": "ipython3",
   "version": "3.6.0"
  }
 },
 "nbformat": 4,
 "nbformat_minor": 2
}
