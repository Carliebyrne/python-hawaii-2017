{
 "cells": [
  {
   "cell_type": "code",
   "execution_count": 1,
   "metadata": {
    "collapsed": true
   },
   "outputs": [],
   "source": [
    "countries = ['Afghanistan', 'Antarctica', 'Bolivia', 'Canada', 'Congo',\n",
    "             'Egypt', 'Finland', 'Ghana', 'Haiti', 'Japan', 'Kenya',\n",
    "             'Malaysia', 'Nepal', 'Norway', 'Pakistan', 'Qatar', 'Spain',\n",
    "             'Switzerland', 'Yemen', 'Zimbabwe']"
   ]
  },
  {
   "cell_type": "markdown",
   "metadata": {},
   "source": [
    "for each country in our list of countries:\n",
    "    convert name to lower case\n",
    "    add name to url to make a new url\n",
    "    we want the url in a variable\n",
    "    print the new url"
   ]
  },
  {
   "cell_type": "code",
   "execution_count": 13,
   "metadata": {
    "collapsed": true
   },
   "outputs": [],
   "source": [
    "baseurl = 'http://berkeleyearth.lbl.gov/auto/Regional/TAVG/Text/'"
   ]
  },
  {
   "cell_type": "code",
   "execution_count": 14,
   "metadata": {
    "collapsed": true
   },
   "outputs": [],
   "source": [
    "end_name = '-TAVG-Trend.txt'"
   ]
  },
  {
   "cell_type": "code",
   "execution_count": 16,
   "metadata": {
    "collapsed": false
   },
   "outputs": [
    {
     "name": "stdout",
     "output_type": "stream",
     "text": [
      "http://berkeleyearth.lbl.gov/auto/Regional/TAVG/Text/afghanistan-TAVG-Trend.txt\n",
      "http://berkeleyearth.lbl.gov/auto/Regional/TAVG/Text/antarctica-TAVG-Trend.txt\n",
      "http://berkeleyearth.lbl.gov/auto/Regional/TAVG/Text/bolivia-TAVG-Trend.txt\n",
      "http://berkeleyearth.lbl.gov/auto/Regional/TAVG/Text/canada-TAVG-Trend.txt\n",
      "http://berkeleyearth.lbl.gov/auto/Regional/TAVG/Text/congo-TAVG-Trend.txt\n",
      "http://berkeleyearth.lbl.gov/auto/Regional/TAVG/Text/egypt-TAVG-Trend.txt\n",
      "http://berkeleyearth.lbl.gov/auto/Regional/TAVG/Text/finland-TAVG-Trend.txt\n",
      "http://berkeleyearth.lbl.gov/auto/Regional/TAVG/Text/ghana-TAVG-Trend.txt\n",
      "http://berkeleyearth.lbl.gov/auto/Regional/TAVG/Text/haiti-TAVG-Trend.txt\n",
      "http://berkeleyearth.lbl.gov/auto/Regional/TAVG/Text/japan-TAVG-Trend.txt\n",
      "http://berkeleyearth.lbl.gov/auto/Regional/TAVG/Text/kenya-TAVG-Trend.txt\n",
      "http://berkeleyearth.lbl.gov/auto/Regional/TAVG/Text/malaysia-TAVG-Trend.txt\n",
      "http://berkeleyearth.lbl.gov/auto/Regional/TAVG/Text/nepal-TAVG-Trend.txt\n",
      "http://berkeleyearth.lbl.gov/auto/Regional/TAVG/Text/norway-TAVG-Trend.txt\n",
      "http://berkeleyearth.lbl.gov/auto/Regional/TAVG/Text/pakistan-TAVG-Trend.txt\n",
      "http://berkeleyearth.lbl.gov/auto/Regional/TAVG/Text/qatar-TAVG-Trend.txt\n",
      "http://berkeleyearth.lbl.gov/auto/Regional/TAVG/Text/spain-TAVG-Trend.txt\n",
      "http://berkeleyearth.lbl.gov/auto/Regional/TAVG/Text/switzerland-TAVG-Trend.txt\n",
      "http://berkeleyearth.lbl.gov/auto/Regional/TAVG/Text/yemen-TAVG-Trend.txt\n",
      "http://berkeleyearth.lbl.gov/auto/Regional/TAVG/Text/zimbabwe-TAVG-Trend.txt\n"
     ]
    }
   ],
   "source": [
    "for country in countries:\n",
    "    url = baseurl + country.lower() + end_name\n",
    "    print(url)"
   ]
  },
  {
   "cell_type": "code",
   "execution_count": null,
   "metadata": {
    "collapsed": true
   },
   "outputs": [],
   "source": []
  },
  {
   "cell_type": "code",
   "execution_count": 2,
   "metadata": {
    "collapsed": false
   },
   "outputs": [
    {
     "data": {
      "text/plain": [
       "'blabla'"
      ]
     },
     "execution_count": 2,
     "metadata": {},
     "output_type": "execute_result"
    }
   ],
   "source": [
    "'bla' + 'bla'"
   ]
  },
  {
   "cell_type": "code",
   "execution_count": 3,
   "metadata": {
    "collapsed": false
   },
   "outputs": [
    {
     "data": {
      "text/plain": [
       "'blablablablablablablablablablablablablablablablablablablablablablablablablablablablablabla'"
      ]
     },
     "execution_count": 3,
     "metadata": {},
     "output_type": "execute_result"
    }
   ],
   "source": [
    "'bla'*30"
   ]
  },
  {
   "cell_type": "code",
   "execution_count": 9,
   "metadata": {
    "collapsed": true
   },
   "outputs": [],
   "source": [
    "people = \"\"\"Catharine Creadick\n",
    "Paul Wessel\n",
    "Estelle Bonny\n",
    "Tiffany Anderson\n",
    "Xiaojing Lai\n",
    "Ronald Ushijima\n",
    "Haunani Kane\n",
    "Wendy Cockshell\n",
    "Olkeba Leta\n",
    "Dayton Dove\n",
    "Daniel Dores\n",
    "Elizabeth Benyshek\n",
    "Daniel Ichiyama\n",
    "Michael Mathioudakis\n",
    "Yu-Fen Huang\n",
    "Matthew Barbee\n",
    "Kate Herries\n",
    "Aurora Kagawa-Viviani\n",
    "Han Tseng\n",
    "John Smith\n",
    "Hunter Heaivilin\n",
    "Leo\"\"\".split('\\n')"
   ]
  },
  {
   "cell_type": "code",
   "execution_count": 10,
   "metadata": {
    "collapsed": false
   },
   "outputs": [
    {
     "data": {
      "text/plain": [
       "['Catharine Creadick',\n",
       " 'Paul Wessel',\n",
       " 'Estelle Bonny',\n",
       " 'Tiffany Anderson',\n",
       " 'Xiaojing Lai',\n",
       " 'Ronald Ushijima',\n",
       " 'Haunani Kane',\n",
       " 'Wendy Cockshell',\n",
       " 'Olkeba Leta',\n",
       " 'Dayton Dove',\n",
       " 'Daniel Dores',\n",
       " 'Elizabeth Benyshek',\n",
       " 'Daniel Ichiyama',\n",
       " 'Michael Mathioudakis',\n",
       " 'Yu-Fen Huang',\n",
       " 'Matthew Barbee',\n",
       " 'Kate Herries',\n",
       " 'Aurora Kagawa-Viviani',\n",
       " 'Han Tseng',\n",
       " 'John Smith',\n",
       " 'Hunter Heaivilin',\n",
       " 'Leo']"
      ]
     },
     "execution_count": 10,
     "metadata": {},
     "output_type": "execute_result"
    }
   ],
   "source": [
    "people"
   ]
  },
  {
   "cell_type": "code",
   "execution_count": 11,
   "metadata": {
    "collapsed": false
   },
   "outputs": [
    {
     "data": {
      "text/plain": [
       "22"
      ]
     },
     "execution_count": 11,
     "metadata": {},
     "output_type": "execute_result"
    }
   ],
   "source": [
    "len(people)"
   ]
  },
  {
   "cell_type": "code",
   "execution_count": 17,
   "metadata": {
    "collapsed": false
   },
   "outputs": [
    {
     "data": {
      "text/plain": [
       "9.5"
      ]
     },
     "execution_count": 17,
     "metadata": {},
     "output_type": "execute_result"
    }
   ],
   "source": [
    "190/20"
   ]
  },
  {
   "cell_type": "code",
   "execution_count": null,
   "metadata": {
    "collapsed": true
   },
   "outputs": [],
   "source": []
  }
 ],
 "metadata": {
  "kernelspec": {
   "display_name": "Python 3",
   "language": "python",
   "name": "python3"
  },
  "language_info": {
   "codemirror_mode": {
    "name": "ipython",
    "version": 3
   },
   "file_extension": ".py",
   "mimetype": "text/x-python",
   "name": "python",
   "nbconvert_exporter": "python",
   "pygments_lexer": "ipython3",
   "version": "3.6.0"
  }
 },
 "nbformat": 4,
 "nbformat_minor": 2
}
