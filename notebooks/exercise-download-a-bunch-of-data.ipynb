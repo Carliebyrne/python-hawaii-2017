{
 "cells": [
  {
   "cell_type": "code",
   "execution_count": 19,
   "metadata": {
    "collapsed": true
   },
   "outputs": [],
   "source": [
    "import requests\n",
    "import numpy as np\n",
    "import matplotlib.pyplot as plt"
   ]
  },
  {
   "cell_type": "code",
   "execution_count": 13,
   "metadata": {
    "collapsed": true
   },
   "outputs": [],
   "source": [
    "countries = ['Afghanistan', 'Antarctica', 'Bolivia', 'Canada', 'Congo',\n",
    "             'Egypt', 'Finland', 'Ghana', 'Haiti', 'Japan', 'Kenya',\n",
    "             'Malaysia', 'Nepal', 'Norway', 'Pakistan', 'Qatar', 'Spain',\n",
    "             'Switzerland', 'Yemen', 'Zimbabwe']"
   ]
  },
  {
   "cell_type": "code",
   "execution_count": 14,
   "metadata": {
    "collapsed": true
   },
   "outputs": [],
   "source": [
    "baseurl = 'http://berkeleyearth.lbl.gov/auto/Regional/TAVG/Text/'"
   ]
  },
  {
   "cell_type": "code",
   "execution_count": 15,
   "metadata": {
    "collapsed": true
   },
   "outputs": [],
   "source": [
    "end_name = '-TAVG-Trend.txt'"
   ]
  },
  {
   "cell_type": "code",
   "execution_count": 16,
   "metadata": {
    "collapsed": false
   },
   "outputs": [
    {
     "name": "stdout",
     "output_type": "stream",
     "text": [
      "Create data dir\n"
     ]
    }
   ],
   "source": [
    "!mkdir -p data\n",
    "print('Create data dir')"
   ]
  },
  {
   "cell_type": "code",
   "execution_count": 20,
   "metadata": {
    "collapsed": true
   },
   "outputs": [],
   "source": [
    "!mkdir -p figures"
   ]
  },
  {
   "cell_type": "code",
   "execution_count": 23,
   "metadata": {
    "collapsed": false,
    "scrolled": true
   },
   "outputs": [
    {
     "name": "stdout",
     "output_type": "stream",
     "text": [
      "Downloading data:\n",
      "  country: Afghanistan ... worked\n",
      "  country: Antarctica ... worked\n",
      "  country: Bolivia ... worked\n",
      "  country: Canada ... worked\n",
      "  country: Congo ... worked\n",
      "  country: Egypt ... worked\n",
      "  country: Finland ... worked\n",
      "  country: Ghana ... worked\n",
      "  country: Haiti ... worked\n",
      "  country: Japan ... worked\n",
      "  country: Kenya ... worked\n",
      "  country: Malaysia ... worked\n",
      "  country: Nepal ... worked\n",
      "  country: Norway ... worked\n",
      "  country: Pakistan ... worked\n",
      "  country: Qatar ... worked\n",
      "  country: Spain ... worked\n",
      "  country: Switzerland ... worked\n",
      "  country: Yemen ... worked\n",
      "  country: Zimbabwe ... worked\n"
     ]
    }
   ],
   "source": [
    "print(\"Downloading data:\")\n",
    "for country in countries:\n",
    "    print('  country:', country, end='')\n",
    "    file_name = country.lower() + end_name\n",
    "    url = baseurl + file_name\n",
    "    response = requests.get(url)\n",
    "    if response.status_code == 200:\n",
    "        print(' ... worked')\n",
    "        with open('data/' + file_name, 'w') as open_file:\n",
    "            open_file.write(response.text)\n",
    "        data = np.loadtxt('data/' + file_name, comments='%')\n",
    "        time = data[:, 0] + 1/12*(data[:, 1] - 1)\n",
    "        temp = data[:, 4]\n",
    "        plt.figure()\n",
    "        plt.plot(time, temp)\n",
    "        plt.xlabel('time')\n",
    "        plt.ylabel('temp')\n",
    "        plt.title(country)\n",
    "        plt.savefig('figures/' + file_name.replace('.txt', '.png'))\n",
    "        plt.close()\n",
    "    else:\n",
    "        print(' ... FAILED!!!')"
   ]
  },
  {
   "cell_type": "code",
   "execution_count": 21,
   "metadata": {
    "collapsed": true
   },
   "outputs": [],
   "source": [
    "name = 'bla.txt'"
   ]
  },
  {
   "cell_type": "code",
   "execution_count": 22,
   "metadata": {
    "collapsed": false
   },
   "outputs": [
    {
     "data": {
      "text/plain": [
       "'bla.png'"
      ]
     },
     "execution_count": 22,
     "metadata": {},
     "output_type": "execute_result"
    }
   ],
   "source": [
    "name.replace('.txt', '.png')"
   ]
  },
  {
   "cell_type": "code",
   "execution_count": 24,
   "metadata": {
    "collapsed": false
   },
   "outputs": [
    {
     "data": {
      "text/plain": [
       "274877906944"
      ]
     },
     "execution_count": 24,
     "metadata": {},
     "output_type": "execute_result"
    }
   ],
   "source": [
    "2**38"
   ]
  }
 ],
 "metadata": {
  "kernelspec": {
   "display_name": "Python 3",
   "language": "python",
   "name": "python3"
  },
  "language_info": {
   "codemirror_mode": {
    "name": "ipython",
    "version": 3
   },
   "file_extension": ".py",
   "mimetype": "text/x-python",
   "name": "python",
   "nbconvert_exporter": "python",
   "pygments_lexer": "ipython3",
   "version": "3.6.0"
  }
 },
 "nbformat": 4,
 "nbformat_minor": 2
}
